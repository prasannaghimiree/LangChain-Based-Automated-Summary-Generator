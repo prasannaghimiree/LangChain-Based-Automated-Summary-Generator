{
 "cells": [
  {
   "cell_type": "code",
   "execution_count": 1,
   "metadata": {},
   "outputs": [
    {
     "name": "stdout",
     "output_type": "stream",
     "text": [
      "Note: you may need to restart the kernel to use updated packages.\n"
     ]
    }
   ],
   "source": [
    "%pip install --upgrade --quiet  langchain-openai tiktoken chromadb langchain langchainhub\n",
    "\n"
   ]
  },
  {
   "cell_type": "code",
   "execution_count": 3,
   "metadata": {},
   "outputs": [
    {
     "name": "stdout",
     "output_type": "stream",
     "text": [
      "Collecting langchain_community\n",
      "  Downloading langchain_community-0.3.13-py3-none-any.whl.metadata (2.9 kB)\n",
      "Requirement already satisfied: PyYAML>=5.3 in c:\\users\\exact\\onedrive\\desktop\\travily_langchain\\.venv\\lib\\site-packages (from langchain_community) (6.0.2)\n",
      "Requirement already satisfied: SQLAlchemy<3,>=1.4 in c:\\users\\exact\\onedrive\\desktop\\travily_langchain\\.venv\\lib\\site-packages (from langchain_community) (2.0.36)\n",
      "Requirement already satisfied: aiohttp<4.0.0,>=3.8.3 in c:\\users\\exact\\onedrive\\desktop\\travily_langchain\\.venv\\lib\\site-packages (from langchain_community) (3.11.11)\n",
      "Collecting dataclasses-json<0.7,>=0.5.7 (from langchain_community)\n",
      "  Using cached dataclasses_json-0.6.7-py3-none-any.whl.metadata (25 kB)\n",
      "Collecting httpx-sse<0.5.0,>=0.4.0 (from langchain_community)\n",
      "  Using cached httpx_sse-0.4.0-py3-none-any.whl.metadata (9.0 kB)\n",
      "Requirement already satisfied: langchain<0.4.0,>=0.3.13 in c:\\users\\exact\\onedrive\\desktop\\travily_langchain\\.venv\\lib\\site-packages (from langchain_community) (0.3.13)\n",
      "Requirement already satisfied: langchain-core<0.4.0,>=0.3.27 in c:\\users\\exact\\onedrive\\desktop\\travily_langchain\\.venv\\lib\\site-packages (from langchain_community) (0.3.28)\n",
      "Requirement already satisfied: langsmith<0.3,>=0.1.125 in c:\\users\\exact\\onedrive\\desktop\\travily_langchain\\.venv\\lib\\site-packages (from langchain_community) (0.2.6)\n",
      "Requirement already satisfied: numpy<2,>=1.22.4 in c:\\users\\exact\\onedrive\\desktop\\travily_langchain\\.venv\\lib\\site-packages (from langchain_community) (1.26.4)\n",
      "Collecting pydantic-settings<3.0.0,>=2.4.0 (from langchain_community)\n",
      "  Using cached pydantic_settings-2.7.0-py3-none-any.whl.metadata (3.5 kB)\n",
      "Requirement already satisfied: requests<3,>=2 in c:\\users\\exact\\onedrive\\desktop\\travily_langchain\\.venv\\lib\\site-packages (from langchain_community) (2.32.3)\n",
      "Requirement already satisfied: tenacity!=8.4.0,<10,>=8.1.0 in c:\\users\\exact\\onedrive\\desktop\\travily_langchain\\.venv\\lib\\site-packages (from langchain_community) (9.0.0)\n",
      "Requirement already satisfied: aiohappyeyeballs>=2.3.0 in c:\\users\\exact\\onedrive\\desktop\\travily_langchain\\.venv\\lib\\site-packages (from aiohttp<4.0.0,>=3.8.3->langchain_community) (2.4.4)\n",
      "Requirement already satisfied: aiosignal>=1.1.2 in c:\\users\\exact\\onedrive\\desktop\\travily_langchain\\.venv\\lib\\site-packages (from aiohttp<4.0.0,>=3.8.3->langchain_community) (1.3.2)\n",
      "Requirement already satisfied: attrs>=17.3.0 in c:\\users\\exact\\onedrive\\desktop\\travily_langchain\\.venv\\lib\\site-packages (from aiohttp<4.0.0,>=3.8.3->langchain_community) (24.3.0)\n",
      "Requirement already satisfied: frozenlist>=1.1.1 in c:\\users\\exact\\onedrive\\desktop\\travily_langchain\\.venv\\lib\\site-packages (from aiohttp<4.0.0,>=3.8.3->langchain_community) (1.5.0)\n",
      "Requirement already satisfied: multidict<7.0,>=4.5 in c:\\users\\exact\\onedrive\\desktop\\travily_langchain\\.venv\\lib\\site-packages (from aiohttp<4.0.0,>=3.8.3->langchain_community) (6.1.0)\n",
      "Requirement already satisfied: propcache>=0.2.0 in c:\\users\\exact\\onedrive\\desktop\\travily_langchain\\.venv\\lib\\site-packages (from aiohttp<4.0.0,>=3.8.3->langchain_community) (0.2.1)\n",
      "Requirement already satisfied: yarl<2.0,>=1.17.0 in c:\\users\\exact\\onedrive\\desktop\\travily_langchain\\.venv\\lib\\site-packages (from aiohttp<4.0.0,>=3.8.3->langchain_community) (1.18.3)\n",
      "Collecting marshmallow<4.0.0,>=3.18.0 (from dataclasses-json<0.7,>=0.5.7->langchain_community)\n",
      "  Downloading marshmallow-3.23.2-py3-none-any.whl.metadata (7.1 kB)\n",
      "Collecting typing-inspect<1,>=0.4.0 (from dataclasses-json<0.7,>=0.5.7->langchain_community)\n",
      "  Using cached typing_inspect-0.9.0-py3-none-any.whl.metadata (1.5 kB)\n",
      "Requirement already satisfied: langchain-text-splitters<0.4.0,>=0.3.3 in c:\\users\\exact\\onedrive\\desktop\\travily_langchain\\.venv\\lib\\site-packages (from langchain<0.4.0,>=0.3.13->langchain_community) (0.3.4)\n",
      "Requirement already satisfied: pydantic<3.0.0,>=2.7.4 in c:\\users\\exact\\onedrive\\desktop\\travily_langchain\\.venv\\lib\\site-packages (from langchain<0.4.0,>=0.3.13->langchain_community) (2.10.4)\n",
      "Requirement already satisfied: jsonpatch<2.0,>=1.33 in c:\\users\\exact\\onedrive\\desktop\\travily_langchain\\.venv\\lib\\site-packages (from langchain-core<0.4.0,>=0.3.27->langchain_community) (1.33)\n",
      "Requirement already satisfied: packaging<25,>=23.2 in c:\\users\\exact\\onedrive\\desktop\\travily_langchain\\.venv\\lib\\site-packages (from langchain-core<0.4.0,>=0.3.27->langchain_community) (24.2)\n",
      "Requirement already satisfied: typing-extensions>=4.7 in c:\\users\\exact\\onedrive\\desktop\\travily_langchain\\.venv\\lib\\site-packages (from langchain-core<0.4.0,>=0.3.27->langchain_community) (4.12.2)\n",
      "Requirement already satisfied: httpx<1,>=0.23.0 in c:\\users\\exact\\onedrive\\desktop\\travily_langchain\\.venv\\lib\\site-packages (from langsmith<0.3,>=0.1.125->langchain_community) (0.28.1)\n",
      "Requirement already satisfied: orjson<4.0.0,>=3.9.14 in c:\\users\\exact\\onedrive\\desktop\\travily_langchain\\.venv\\lib\\site-packages (from langsmith<0.3,>=0.1.125->langchain_community) (3.10.12)\n",
      "Requirement already satisfied: requests-toolbelt<2.0.0,>=1.0.0 in c:\\users\\exact\\onedrive\\desktop\\travily_langchain\\.venv\\lib\\site-packages (from langsmith<0.3,>=0.1.125->langchain_community) (1.0.0)\n",
      "Requirement already satisfied: python-dotenv>=0.21.0 in c:\\users\\exact\\onedrive\\desktop\\travily_langchain\\.venv\\lib\\site-packages (from pydantic-settings<3.0.0,>=2.4.0->langchain_community) (1.0.1)\n",
      "Requirement already satisfied: charset-normalizer<4,>=2 in c:\\users\\exact\\onedrive\\desktop\\travily_langchain\\.venv\\lib\\site-packages (from requests<3,>=2->langchain_community) (3.4.1)\n",
      "Requirement already satisfied: idna<4,>=2.5 in c:\\users\\exact\\onedrive\\desktop\\travily_langchain\\.venv\\lib\\site-packages (from requests<3,>=2->langchain_community) (3.10)\n",
      "Requirement already satisfied: urllib3<3,>=1.21.1 in c:\\users\\exact\\onedrive\\desktop\\travily_langchain\\.venv\\lib\\site-packages (from requests<3,>=2->langchain_community) (2.3.0)\n",
      "Requirement already satisfied: certifi>=2017.4.17 in c:\\users\\exact\\onedrive\\desktop\\travily_langchain\\.venv\\lib\\site-packages (from requests<3,>=2->langchain_community) (2024.12.14)\n",
      "Requirement already satisfied: greenlet!=0.4.17 in c:\\users\\exact\\onedrive\\desktop\\travily_langchain\\.venv\\lib\\site-packages (from SQLAlchemy<3,>=1.4->langchain_community) (3.1.1)\n",
      "Requirement already satisfied: anyio in c:\\users\\exact\\onedrive\\desktop\\travily_langchain\\.venv\\lib\\site-packages (from httpx<1,>=0.23.0->langsmith<0.3,>=0.1.125->langchain_community) (4.7.0)\n",
      "Requirement already satisfied: httpcore==1.* in c:\\users\\exact\\onedrive\\desktop\\travily_langchain\\.venv\\lib\\site-packages (from httpx<1,>=0.23.0->langsmith<0.3,>=0.1.125->langchain_community) (1.0.7)\n",
      "Requirement already satisfied: h11<0.15,>=0.13 in c:\\users\\exact\\onedrive\\desktop\\travily_langchain\\.venv\\lib\\site-packages (from httpcore==1.*->httpx<1,>=0.23.0->langsmith<0.3,>=0.1.125->langchain_community) (0.14.0)\n",
      "Requirement already satisfied: jsonpointer>=1.9 in c:\\users\\exact\\onedrive\\desktop\\travily_langchain\\.venv\\lib\\site-packages (from jsonpatch<2.0,>=1.33->langchain-core<0.4.0,>=0.3.27->langchain_community) (3.0.0)\n",
      "Requirement already satisfied: annotated-types>=0.6.0 in c:\\users\\exact\\onedrive\\desktop\\travily_langchain\\.venv\\lib\\site-packages (from pydantic<3.0.0,>=2.7.4->langchain<0.4.0,>=0.3.13->langchain_community) (0.7.0)\n",
      "Requirement already satisfied: pydantic-core==2.27.2 in c:\\users\\exact\\onedrive\\desktop\\travily_langchain\\.venv\\lib\\site-packages (from pydantic<3.0.0,>=2.7.4->langchain<0.4.0,>=0.3.13->langchain_community) (2.27.2)\n",
      "Collecting mypy-extensions>=0.3.0 (from typing-inspect<1,>=0.4.0->dataclasses-json<0.7,>=0.5.7->langchain_community)\n",
      "  Using cached mypy_extensions-1.0.0-py3-none-any.whl.metadata (1.1 kB)\n",
      "Requirement already satisfied: sniffio>=1.1 in c:\\users\\exact\\onedrive\\desktop\\travily_langchain\\.venv\\lib\\site-packages (from anyio->httpx<1,>=0.23.0->langsmith<0.3,>=0.1.125->langchain_community) (1.3.1)\n",
      "Downloading langchain_community-0.3.13-py3-none-any.whl (2.5 MB)\n",
      "   ---------------------------------------- 0.0/2.5 MB ? eta -:--:--\n",
      "   ---------------------------------------- 0.0/2.5 MB ? eta -:--:--\n",
      "   ---------------------------------------- 0.0/2.5 MB ? eta -:--:--\n",
      "   ---------------------------------------- 0.0/2.5 MB ? eta -:--:--\n",
      "   -------- ------------------------------- 0.5/2.5 MB 2.4 MB/s eta 0:00:01\n",
      "   -------------------- ------------------- 1.3/2.5 MB 3.2 MB/s eta 0:00:01\n",
      "   ----------------------------- ---------- 1.8/2.5 MB 3.1 MB/s eta 0:00:01\n",
      "   ---------------------------------------- 2.5/2.5 MB 3.3 MB/s eta 0:00:00\n",
      "Using cached dataclasses_json-0.6.7-py3-none-any.whl (28 kB)\n",
      "Using cached httpx_sse-0.4.0-py3-none-any.whl (7.8 kB)\n",
      "Using cached pydantic_settings-2.7.0-py3-none-any.whl (29 kB)\n",
      "Downloading marshmallow-3.23.2-py3-none-any.whl (49 kB)\n",
      "Using cached typing_inspect-0.9.0-py3-none-any.whl (8.8 kB)\n",
      "Using cached mypy_extensions-1.0.0-py3-none-any.whl (4.7 kB)\n",
      "Installing collected packages: mypy-extensions, marshmallow, httpx-sse, typing-inspect, pydantic-settings, dataclasses-json, langchain_community\n",
      "Successfully installed dataclasses-json-0.6.7 httpx-sse-0.4.0 langchain_community-0.3.13 marshmallow-3.23.2 mypy-extensions-1.0.0 pydantic-settings-2.7.0 typing-inspect-0.9.0\n",
      "Note: you may need to restart the kernel to use updated packages.\n"
     ]
    }
   ],
   "source": [
    "pip install langchain_community"
   ]
  },
  {
   "cell_type": "code",
   "execution_count": 5,
   "metadata": {},
   "outputs": [
    {
     "name": "stdout",
     "output_type": "stream",
     "text": [
      "Collecting langchain_ollamaNote: you may need to restart the kernel to use updated packages.\n",
      "\n",
      "  Downloading langchain_ollama-0.2.2-py3-none-any.whl.metadata (1.9 kB)\n",
      "Requirement already satisfied: langchain-core<0.4.0,>=0.3.27 in c:\\users\\exact\\onedrive\\desktop\\travily_langchain\\.venv\\lib\\site-packages (from langchain_ollama) (0.3.28)\n",
      "Collecting ollama<1,>=0.4.4 (from langchain_ollama)\n",
      "  Using cached ollama-0.4.4-py3-none-any.whl.metadata (4.7 kB)\n",
      "Requirement already satisfied: PyYAML>=5.3 in c:\\users\\exact\\onedrive\\desktop\\travily_langchain\\.venv\\lib\\site-packages (from langchain-core<0.4.0,>=0.3.27->langchain_ollama) (6.0.2)\n",
      "Requirement already satisfied: jsonpatch<2.0,>=1.33 in c:\\users\\exact\\onedrive\\desktop\\travily_langchain\\.venv\\lib\\site-packages (from langchain-core<0.4.0,>=0.3.27->langchain_ollama) (1.33)\n",
      "Requirement already satisfied: langsmith<0.3,>=0.1.125 in c:\\users\\exact\\onedrive\\desktop\\travily_langchain\\.venv\\lib\\site-packages (from langchain-core<0.4.0,>=0.3.27->langchain_ollama) (0.2.6)\n",
      "Requirement already satisfied: packaging<25,>=23.2 in c:\\users\\exact\\onedrive\\desktop\\travily_langchain\\.venv\\lib\\site-packages (from langchain-core<0.4.0,>=0.3.27->langchain_ollama) (24.2)\n",
      "Requirement already satisfied: pydantic<3.0.0,>=2.5.2 in c:\\users\\exact\\onedrive\\desktop\\travily_langchain\\.venv\\lib\\site-packages (from langchain-core<0.4.0,>=0.3.27->langchain_ollama) (2.10.4)\n",
      "Requirement already satisfied: tenacity!=8.4.0,<10.0.0,>=8.1.0 in c:\\users\\exact\\onedrive\\desktop\\travily_langchain\\.venv\\lib\\site-packages (from langchain-core<0.4.0,>=0.3.27->langchain_ollama) (9.0.0)\n",
      "Requirement already satisfied: typing-extensions>=4.7 in c:\\users\\exact\\onedrive\\desktop\\travily_langchain\\.venv\\lib\\site-packages (from langchain-core<0.4.0,>=0.3.27->langchain_ollama) (4.12.2)\n",
      "Collecting httpx<0.28.0,>=0.27.0 (from ollama<1,>=0.4.4->langchain_ollama)\n",
      "  Using cached httpx-0.27.2-py3-none-any.whl.metadata (7.1 kB)\n",
      "Requirement already satisfied: anyio in c:\\users\\exact\\onedrive\\desktop\\travily_langchain\\.venv\\lib\\site-packages (from httpx<0.28.0,>=0.27.0->ollama<1,>=0.4.4->langchain_ollama) (4.7.0)\n",
      "Requirement already satisfied: certifi in c:\\users\\exact\\onedrive\\desktop\\travily_langchain\\.venv\\lib\\site-packages (from httpx<0.28.0,>=0.27.0->ollama<1,>=0.4.4->langchain_ollama) (2024.12.14)\n",
      "Requirement already satisfied: httpcore==1.* in c:\\users\\exact\\onedrive\\desktop\\travily_langchain\\.venv\\lib\\site-packages (from httpx<0.28.0,>=0.27.0->ollama<1,>=0.4.4->langchain_ollama) (1.0.7)\n",
      "Requirement already satisfied: idna in c:\\users\\exact\\onedrive\\desktop\\travily_langchain\\.venv\\lib\\site-packages (from httpx<0.28.0,>=0.27.0->ollama<1,>=0.4.4->langchain_ollama) (3.10)\n",
      "Requirement already satisfied: sniffio in c:\\users\\exact\\onedrive\\desktop\\travily_langchain\\.venv\\lib\\site-packages (from httpx<0.28.0,>=0.27.0->ollama<1,>=0.4.4->langchain_ollama) (1.3.1)\n",
      "Requirement already satisfied: h11<0.15,>=0.13 in c:\\users\\exact\\onedrive\\desktop\\travily_langchain\\.venv\\lib\\site-packages (from httpcore==1.*->httpx<0.28.0,>=0.27.0->ollama<1,>=0.4.4->langchain_ollama) (0.14.0)\n",
      "Requirement already satisfied: jsonpointer>=1.9 in c:\\users\\exact\\onedrive\\desktop\\travily_langchain\\.venv\\lib\\site-packages (from jsonpatch<2.0,>=1.33->langchain-core<0.4.0,>=0.3.27->langchain_ollama) (3.0.0)\n",
      "Requirement already satisfied: orjson<4.0.0,>=3.9.14 in c:\\users\\exact\\onedrive\\desktop\\travily_langchain\\.venv\\lib\\site-packages (from langsmith<0.3,>=0.1.125->langchain-core<0.4.0,>=0.3.27->langchain_ollama) (3.10.12)\n",
      "Requirement already satisfied: requests<3,>=2 in c:\\users\\exact\\onedrive\\desktop\\travily_langchain\\.venv\\lib\\site-packages (from langsmith<0.3,>=0.1.125->langchain-core<0.4.0,>=0.3.27->langchain_ollama) (2.32.3)\n",
      "Requirement already satisfied: requests-toolbelt<2.0.0,>=1.0.0 in c:\\users\\exact\\onedrive\\desktop\\travily_langchain\\.venv\\lib\\site-packages (from langsmith<0.3,>=0.1.125->langchain-core<0.4.0,>=0.3.27->langchain_ollama) (1.0.0)\n",
      "Requirement already satisfied: annotated-types>=0.6.0 in c:\\users\\exact\\onedrive\\desktop\\travily_langchain\\.venv\\lib\\site-packages (from pydantic<3.0.0,>=2.5.2->langchain-core<0.4.0,>=0.3.27->langchain_ollama) (0.7.0)\n",
      "Requirement already satisfied: pydantic-core==2.27.2 in c:\\users\\exact\\onedrive\\desktop\\travily_langchain\\.venv\\lib\\site-packages (from pydantic<3.0.0,>=2.5.2->langchain-core<0.4.0,>=0.3.27->langchain_ollama) (2.27.2)\n",
      "Requirement already satisfied: charset-normalizer<4,>=2 in c:\\users\\exact\\onedrive\\desktop\\travily_langchain\\.venv\\lib\\site-packages (from requests<3,>=2->langsmith<0.3,>=0.1.125->langchain-core<0.4.0,>=0.3.27->langchain_ollama) (3.4.1)\n",
      "Requirement already satisfied: urllib3<3,>=1.21.1 in c:\\users\\exact\\onedrive\\desktop\\travily_langchain\\.venv\\lib\\site-packages (from requests<3,>=2->langsmith<0.3,>=0.1.125->langchain-core<0.4.0,>=0.3.27->langchain_ollama) (2.3.0)\n",
      "Downloading langchain_ollama-0.2.2-py3-none-any.whl (18 kB)\n",
      "Using cached ollama-0.4.4-py3-none-any.whl (13 kB)\n",
      "Using cached httpx-0.27.2-py3-none-any.whl (76 kB)\n",
      "Installing collected packages: httpx, ollama, langchain_ollama\n",
      "  Attempting uninstall: httpx\n",
      "    Found existing installation: httpx 0.28.1\n",
      "    Uninstalling httpx-0.28.1:\n",
      "      Successfully uninstalled httpx-0.28.1\n",
      "Successfully installed httpx-0.27.2 langchain_ollama-0.2.2 ollama-0.4.4\n"
     ]
    }
   ],
   "source": [
    "pip install langchain_ollama"
   ]
  },
  {
   "cell_type": "code",
   "execution_count": 8,
   "metadata": {},
   "outputs": [
    {
     "name": "stdout",
     "output_type": "stream",
     "text": [
      "Note: you may need to restart the kernel to use updated packages.\n"
     ]
    }
   ],
   "source": [
    "%pip install -qU langchain_community beautifulsoup4"
   ]
  },
  {
   "cell_type": "code",
   "execution_count": null,
   "metadata": {},
   "outputs": [
    {
     "data": {
      "text/plain": [
       "\"1. Headline: Westerly disturbances to cause light to moderate rainfall from Friday\\n   - The weather forecast for December 26, 2024, indicates that westerly disturbances will bring light to moderate rainfall.\\n\\n   Other highlights of the article:\\n   - A month-long free screening drive for non-communicable diseases is scheduled for next year.\\n   - Nepal steps up surveillance after a second mpox case was confirmed.\\n   - The trials and tribulations of home baking were discussed, along with delightful Christmas recipes to savor.\\n   - Fast-forming alien planets have astronomers intrigued.\\n   - Lessons on coding and AI will be introduced in the fourth grade in Indonesia.\\n   - The Nepal Premier League became a watershed moment for Nepali cricket.\\n   - The royal roots of Central Zoo were featured, as well as Minpachas: Adventures in the time of Kathmandu’s long winters.\\n   - Columns covered topics such as AI in students' writing, Ambedkar's legacy, debating the 'Dalit' word, a juvenile's take on juvenile injustice, where does education budget go?, and more.\""
      ]
     },
     "execution_count": 12,
     "metadata": {},
     "output_type": "execute_result"
    }
   ],
   "source": [
    "from langchain.chains.summarize import load_summarize_chain\n",
    "from langchain_community.document_loaders import WebBaseLoader\n",
    "from langchain_ollama import OllamaLLM\n",
    "\n",
    "loader = WebBaseLoader(\"https://kathmandupost.com/\")\n",
    "docs = loader.load()\n",
    "\n",
    "llm = OllamaLLM(\n",
    "    model=\"mistral\", config={\"max_new_tokens\": 1000, \"temperature\": 0.9}\n",
    ")\n",
    "chain = load_summarize_chain(llm, chain_type=\"stuff\")\n",
    "\n",
    "chain.run(docs)"
   ]
  },
  {
   "cell_type": "code",
   "execution_count": 13,
   "metadata": {},
   "outputs": [],
   "source": [
    "loader_multiple_pages = WebBaseLoader(\n",
    "    [\"https://kathmandupost.com/\", \"https://google.com\"]\n",
    ")"
   ]
  },
  {
   "cell_type": "code",
   "execution_count": 14,
   "metadata": {},
   "outputs": [],
   "source": [
    "loader_multiple_pages = WebBaseLoader(\n",
    "    [ \"https://www.google.com/search?q=football&sca_esv=37552d593c9eaf13&sxsrf=ADLYWIITUGUS6pYkQwzkl9hWN-xb98kXvw%3A1735204579074&ei=4x5tZ-uOBLeXseMP4bi50Ak&ved=0ahUKEwirjLHkjMWKAxW3S2wGHWFcDpoQ4dUDCBA&uact=5&oq=football&gs_lp=Egxnd3Mtd2l6LXNlcnAiCGZvb3RiYWxsMgoQIxiABBgnGIoFMgsQABiABBiRAhiKBTIKEAAYgAQYQxiKBTILEC4YgAQYkQIYigUyDhAAGIAEGJECGLEDGIoFMgoQABiABBhDGIoFMgsQABiABBiRAhiKBTIKEAAYgAQYQxiKBTIKEAAYgAQYQxiKBTINEAAYgAQYsQMYQxiKBUiiDFAAWP0JcAB4AZABAJgBrQGgAcUJqgEDMC44uAEDyAEA-AEBmAIIoALnCcICERAuGIAEGLEDGNEDGIMBGMcBwgILEAAYgAQYsQMYgwHCAggQLhiABBixA8ICDhAuGIAEGLEDGNEDGMcBwgIREAAYgAQYkQIYsQMYgwEYigXCAggQABiABBixA8ICBRAAGIAEwgIOEAAYgAQYsQMYgwEYigXCAhAQLhiABBjRAxhDGMcBGIoFmAMAkgcDMC44oAftRg&sclient=gws-wiz-serp\"]\n",
    ")"
   ]
  },
  {
   "cell_type": "code",
   "execution_count": 16,
   "metadata": {},
   "outputs": [],
   "source": [
    "loader = WebBaseLoader(\"https://kathmandupost.com/\")\n",
    "docs = loader.load()"
   ]
  },
  {
   "cell_type": "code",
   "execution_count": 17,
   "metadata": {},
   "outputs": [
    {
     "data": {
      "text/plain": [
       "[Document(metadata={'source': 'https://kathmandupost.com/', 'title': 'The Kathmandu Post | Read online latest news and articles from Nepal', 'description': 'The Kathmandu Post : Find the latest breaking news from Nepal, opinion & analysis on Nepali politics, business, culture & arts, sports, movies, food & travel, books, education, auto & more at kathmandupost.com', 'language': 'en'}, page_content=\"The Kathmandu Post | Read online latest news and articles from NepalNationalPoliticsValleyOpinionMoneySportsCulture & Lifestyle NationalMadhesh ProvinceLumbini ProvinceBagmati ProvinceNational SecurityKoshi ProvinceGandaki ProvinceKarnali ProvinceSudurpaschim ProvincePoliticsValleyKathmanduLalitpurBhaktapurOpinionColumnsAs it isLettersEditorialCartoonMoneySportsCricketFootballInternational SportsCulture & LifestyleArtsBrunch with the PostMoviesLife & StyleTheaterEntertainmentBooksFashionHealthFoodRecipesTravelInvestigationsClimate & EnvironmentWorldScience & TechnologyInterviewsVisual StoriesCrosswords & SudokuHoroscopeForexCorrectionsLetters to the EditorToday's ePaper  Thursday, December 26, 2024  Without Fear or FavourUNWIND IN STYLE 19.12°C KathmanduAir Quality in Kathmandu: 149300+Hazardous0-50Good51-100Moderate101-150Unhealty for Sensitive Groups151-200Unhealthy201-300Very Unhealthy  Thu, Dec 26, 202419.12°C KathmanduAir Quality in Kathmandu: 149   What's News :UML’s action on dissidents Plastic ban in hotels Trump’s return and LGBTQIA+ Iodine content in salt Surya Nepal Golf Tour 2024-25 What Trump’s return means for LGBTQIA+ advocacy in NepalBy  Aarati RayNepali queer rights activists say they are determined to fight back any potential regressive US policies and vow to continue advocacy.Nepal to decide on iodine content in salt only after survey By  Post ReportA micronutrient status survey will start in May next year with technical support from the US Centers for Disease Control.PM Oli briefs party as UML meet discusses service deliveryBy  Post ReportRuling partners Congress and UML are teaming up to work on statute amendment and to expedite passage of pending bills.UML expels Bhim Rawal and suspends two other leaders By Post Report Binda Pandey and Usha Kiran Timilsina opposed UML’s decision to accept land grant from Min Bahadur Gurung. Questions hang over hotels’ single-use plastic ban planBy  Sangam PrasainHotel Association pledged to replace bottles by January 1 but target looks beyond reach for many struggling hotels.UML expels Bhim Rawal and suspends two other leaders By Post Report Binda Pandey and Usha Kiran Timilsina opposed UML’s decision to accept land grant from Min Bahadur Gurung.OPINIONTalk and tweak  The constitution can be strengthened only through a broadly participatory process. The question of AI in students’ writing By Gehendra Koirala   Students shouldn’t lose their originality by entirely depending on AI as it cannot think independently.Ambedkar’s legacy By Gouri Sankar Nag   India’s path to freedom was not a sudden epiphany but rather a gradual evolution shaped by influential figures.Curtailed queer rights  These rights go beyond sexuality and identity and include all aspects of human rights.VISUAL STORIES  International Balloon Festival begins in Pokhara   Stunning view of the Himalayas from Kirtipur   The week in 9 photos   Yomari Punhi: Festive celebration of tradition and tasty treats (Photos)   LATEST UPDATES China to build world’s largest hydropower dam in TibetBy Reuters The dam, which will be located in the lower reaches of the Yarlung Zangbo River, is estimated to produce 300 billion kilowatt-hours of electricity annuallySponsoredChina to develop new institutions for higher-standard open economyBy Statistics show that from 1979 to 2023, China’s gross domestic product has grown at an average annual rate of 8.9 percent, far exceeding the global average of 3 percent during the same period.How South Korea’s Constitutional Court could decide President Yoon’s fateBy Reuters The Constitutional Court must decide within 180 days whether to remove Yoon from office or reject the impeachment and restore his powers. If the court removes Yoon or he resigns, a presidential election must be held within 60 days.Earthquake jolts JajarkotBy Tripti Shahi A 4.2 magnitude tremor with epicentre in Barekot recorded on Thursday morning.Pakistani airstrikes on Afghanistan kill 46 people, Taliban official saysBy Reuters The neighbours have a strained relationship, with Pakistan saying that several TTP attacks that have occurred in its country have been launched from Afghan soil - a charge the Afghan Taliban denies.Teaching language with puzzles and crosswordsBy Aarya Chand Rishi Handa, head of Sanskrit at St James Senior Boys School, England, discusses his teaching methods and insightful experiences in Nepal.‘Know Pages, Know Screen’ workshop beginsBy Post Report The week-long workshop focuses on the pre-production phase of cinema.Local pro Tamang takes four-stroke leadBy Sports Bureau Tamang cards 8-under 62 to open up a four-stroke lead over Dhana Bahadur Thapa, who cards a 4-under 66.PM Oli briefs party as UML meet discusses service deliveryBy Post Report Ruling partners Congress and UML are teaming up to work on statute amendment and to expedite passage of pending bills.Today’s weather: December 26, 2024By Post Report Stay informed and prepared: Plan your day with The Kathmandu Post’s weather updates.What Trump’s return means for LGBTQIA+ advocacy in NepalBy Aarati Ray Nepali queer rights activists say they are determined to fight back any potential regressive US policies and vow to continue advocacy.Nepal to decide on iodine content in salt only after surveyBy Post Report A micronutrient status survey will start in May next year with technical support from the US Centers for Disease Control.Westerly disturbances to cause light to moderate rainfall from FridayBy Post Report Met officials say Sudurpaschim, Karnali, Lumbini, and Gandaki Province will witness rainfall starting Friday night. Light rain is likely in Kathmandu Valley on Saturday.Questions hang over hotels’ single-use plastic ban planBy Sangam Prasain Hotel Association pledged to replace bottles by January 1 but target looks beyond reach for many struggling hotels.UML expels Bhim Rawal and suspends two other leadersBy Post Report Binda Pandey and Usha Kiran Timilsina opposed UML’s decision to accept land grant from Min Bahadur Gurung.Public PULSEHow concerned are you about the deteriorating air quality in Kathmandu and its impact on public health?Act now—our lungs can’t wait! Step by step, we can clear the airIt’s bad, but only for some It’s not that seriousSubmitAct now—our lungs can’t wait! 84.85% Step by step, we can clear the air9.09% It’s bad, but only for some 0% It’s not that serious6.06% MOST READUML expels Bhim Rawal and suspends two other leaders Passenger plane flying from Azerbaijan to Russia crashes in Kazakhstan with many feared dead NRB declares Karnali Development Bank as crisis-ridden bank, takes management control What Trump’s return means for LGBTQIA+ advocacy in Nepal Questions hang over hotels’ single-use plastic ban plan E-PAPER | December 26, 2024Read ePaper Online Editor's PicksNepal Premier League becomes a watershed for Nepali cricket Everest helicopter flights face stronger headwind Municipal, forest officials collude to aid and abet illegal mining of resources in Chure Women victims struggle with cases of domestic violence stuck in courts Nepal and China sign framework for BRI cooperation in Beijing Videos SAARC at 40 | Idea of Nepal with Anurag Acharya   Mental Health of Young Nepal | Idea of Nepal with Shreya Giri   Nepal, Bangladesh and South Asia | Idea of Nepal with Nilanthi Samaranayake   Nepal-India ties | Idea of Nepal with Ranjit Rae   Culture & ArtsTeaching language with puzzles and crosswordsRishi Handa, head of Sanskrit at St James Senior Boys School, England, discusses his teaching methods and insightful experiences in Nepal.‘Know Pages, Know Screen’ workshop beginsThe week-long workshop focuses on the pre-production phase of cinema....The stage is almost set for ‘Sonu Nigam Live in Nepal’The organising committee is expecting fifteen thousand attendees....The power of being present Mindfulness, rooted in ancient traditions, offers practical tools to improve mental health...Telling stories that matterShanta Nepali, a filmmaker and entrepreneur, works to amplify the voices of marginalised c...National  Earthquake jolts JajarkotWhat Trump’s return means for LGBTQIA+ advocacy in NepalUML expels Bhim Rawal and suspends two other leadersNRB declares Karnali Development Bank as crisis-ridden bank, takes management control Experts recommend ‘cooling-off period’ for retired bureaucrats seeking constitutional positions  Politics  PM Oli briefs party as UML meet discusses service deliveryNational Assembly leaders and lawmakers stress strengthening of federal systemRuling Congress, UML finally take up constitution revisionForeign minister back from Delhi, no progress on PM Oli’s visitRabi Lamichhane officially suspended as lawmaker  Valley  Valley sees multiple murder cases in daysBalkot double murder suspect surrenders to policeKMC to start random emission tests from next weekKrishnaman Dangol of Congress wins mayoral by-election in KirtipurKrishnaman Dangol leads Kirtipur mayoral by-election  Money  Bandana Sharma honoured with Ncell Woman ICON ICT awardQuestions hang over hotels’ single-use plastic ban planPaddy areas shrink in Karnali as disease, low irrigation take a tollNcell Foundation’s ‘4 for 4s’ initiative ensures more than 2,600 educational kitsHimalayan Yak: No more treasure for mountain people as Tibet restricts trade  Climate & Environment  KMC to launch awareness drive on air pollutionAt International Court of Justice, Nepal demands climate justiceAlina Chaudhary wins TOFTigers Lodge Naturalist Award2024 will be the hottest year on record, EU scientists sayGD Labs to bring bike rental stations to Lalitpur with Greenway app  Health  Nepal to decide on iodine content in salt only after surveyMonth-long free screening drive for non-communicable diseases next yearNepal steps up surveillance after second mpox caseNepal confirms second case of monkeypoxNepal to push malaria elimination goal to 2030 as 2026 proves unattainable  Food  Savour Christmas with these delightful recipesKathmandu Metropolis fines Bhatbhateni Supermarket for selling moldy productsNepal Foods wins best Nepali Brand of the Year 2024 at 9th Asian Food and Restaurant AwardsDusit Princess Kathmandu hosting trout festivalThe trials and tribulations of home-baking  Travel  High trails and hearty laughsKhokana: A serene time capsule away from Kathmandu bustleThis summer, I saw the Everest up-closeSri Lanka: Exploring Ravana’s ancient realm7 places in Nepal you should visit in 2024  Science & Technology  Fast-forming alien planet has astronomers intriguedLessons on coding and AI to start in fourth grade: Indonesia Education MinisterAI to detect accidents in real-time in MalaysiaChina’s humanoid robot industry records robust profitsOsaka-Kansai Expo: Robot avatars to be operated by online visitors  Sports  Local pro Tamang takes four-stroke leadBosch to make South Africa debut against PakistanKushal Malla joins Desert Vipers for ILT20Nepal Premier League becomes a watershed for Nepali cricketNepal and Bhutan Draw in Women’s U-19 friendly on Sunday  World  China to build world’s largest hydropower dam in TibetHow South Korea’s Constitutional Court could decide President Yoon’s fatePakistani airstrikes on Afghanistan kill 46 people, Taliban official saysKurdish militia in Syria will be buried if they do not lay down arms,Turkey’s Erdogan saysRussian governor says Ukrainian drone debris caused fatal fire in shopping centre  FeaturesAre Nepali independent singers struggling for a platform?Kites over Kathmandu skyThe Kumari tradition lives on, balancing ancient and modern valuesThe royal roots of Central ZooMinpachas: Adventures in the time of Kathmandu’s long winters  Columns  The question of AI in students’ writing Ambedkar’s legacyDebating the ‘Dalit’ wordA juvenile’s take on juvenile injusticeWhere does education budget go?  Editorial  Talk and tweakCurtailed queer rightsTapping milk marketsWhat’s in a name?Elephant in the room  Interviews  There is no possibility of reunification with UMLConstitution should be amended only to remove difficulties in implementationChina signed the agreements on our termsRather than a bridge, Nepal should try to develop as a portFrequent elections make the representatives accountable  Weather  Today’s weather: December 26, 2024Westerly disturbances to cause light to moderate rainfall from FridayToday’s weather: December 25, 2024Today’s weather: December 24, 2024Today’s weather: December 23, 2024   ABOUT USAbout the Post Masthead Editorial Standards & Integrity Workplace Harassment Policy Privacy Policy READ USHome Delivery ePaper CONTACT USWrite for the Post Letters to the Editor Advertise in the Post Work for the Post Send us a tip INTERACT WITH USTwitter Facebook Instagram OUR SISTER PUBLICATIONS eKantipursaptahikNepalNariRadio KantipurKantipur TV© 2024 www.kathmandupost.comPrivacy PolicyTop\")]"
      ]
     },
     "execution_count": 17,
     "metadata": {},
     "output_type": "execute_result"
    }
   ],
   "source": [
    "docs"
   ]
  }
 ],
 "metadata": {
  "kernelspec": {
   "display_name": ".venv",
   "language": "python",
   "name": "python3"
  },
  "language_info": {
   "codemirror_mode": {
    "name": "ipython",
    "version": 3
   },
   "file_extension": ".py",
   "mimetype": "text/x-python",
   "name": "python",
   "nbconvert_exporter": "python",
   "pygments_lexer": "ipython3",
   "version": "3.11.1"
  }
 },
 "nbformat": 4,
 "nbformat_minor": 2
}
